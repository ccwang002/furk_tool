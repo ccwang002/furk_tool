{
 "metadata": {
  "name": "",
  "signature": "sha256:0a3d3645e58d08a178dc3eebf4afaae14ae689f9996421cae9b648cba6bdf913"
 },
 "nbformat": 3,
 "nbformat_minor": 0,
 "worksheets": [
  {
   "cells": [
    {
     "cell_type": "code",
     "collapsed": false,
     "input": [
      "from collections import OrderedDict\n",
      "from datetime import datetime as dt\n",
      "import os\n",
      "import os.path as op\n",
      "from pathlib import Path\n",
      "import requests\n",
      "\n",
      "from IPython.html.widgets import IntProgressWidget\n",
      "from IPython.display import display as ipydisplay"
     ],
     "language": "python",
     "metadata": {},
     "outputs": []
    },
    {
     "cell_type": "code",
     "collapsed": false,
     "input": [
      "with open(\".furk_credentials\") as f:\n",
      "    ACCOUNT = next(f).strip().split(' = ')[-1]\n",
      "    PWD = next(f).strip().split(' = ')[-1]"
     ],
     "language": "python",
     "metadata": {},
     "outputs": []
    },
    {
     "cell_type": "code",
     "collapsed": false,
     "input": [
      "s = requests.Session()"
     ],
     "language": "python",
     "metadata": {},
     "outputs": []
    },
    {
     "cell_type": "code",
     "collapsed": false,
     "input": [
      "r = s.get(\"https://www.furk.net/\")"
     ],
     "language": "python",
     "metadata": {},
     "outputs": []
    },
    {
     "cell_type": "code",
     "collapsed": false,
     "input": [
      "login_payload = {\n",
      "    'login': ACCOUNT,\n",
      "    'pwd': PWD,\n",
      "    'gigya_uid': '',\n",
      "    'url': ''\n",
      "}"
     ],
     "language": "python",
     "metadata": {},
     "outputs": []
    },
    {
     "cell_type": "code",
     "collapsed": false,
     "input": [
      "s.headers.update({'referer': 'https://www.furk.net/login'})\n",
      "r = s.post(\"https://www.furk.net/api/login/login\", params=login_payload)"
     ],
     "language": "python",
     "metadata": {},
     "outputs": []
    },
    {
     "cell_type": "code",
     "collapsed": false,
     "input": [
      "r_finished = s.get('https://www.furk.net/users/files/finished')"
     ],
     "language": "python",
     "metadata": {},
     "outputs": []
    },
    {
     "cell_type": "heading",
     "level": 1,
     "metadata": {},
     "source": [
      "r, r_finished"
     ]
    },
    {
     "cell_type": "code",
     "collapsed": false,
     "input": [
      "from pyquery import PyQuery as pq"
     ],
     "language": "python",
     "metadata": {},
     "outputs": []
    },
    {
     "cell_type": "code",
     "collapsed": false,
     "input": [
      "dom = pq(r_finished.text)"
     ],
     "language": "python",
     "metadata": {},
     "outputs": []
    },
    {
     "cell_type": "code",
     "collapsed": false,
     "input": [
      "for html_elem in dom('div.tor-box h2 a:first'):\n",
      "    print(html_elem.attrib['href'], html_elem.text[:5])"
     ],
     "language": "python",
     "metadata": {},
     "outputs": []
    },
    {
     "cell_type": "code",
     "collapsed": false,
     "input": [
      "r_download = s.get(\"https://www.furk.net/\" + \"/df/56e9566472379fa9\")"
     ],
     "language": "python",
     "metadata": {},
     "outputs": []
    },
    {
     "cell_type": "code",
     "collapsed": false,
     "input": [
      "dom_download = pq(r_download.text)(\"td#cell_premium_links\")"
     ],
     "language": "python",
     "metadata": {},
     "outputs": []
    },
    {
     "cell_type": "code",
     "collapsed": false,
     "input": [
      "html_elem = pq(r_download.text)(\"textarea#plain_list\")[0]"
     ],
     "language": "python",
     "metadata": {},
     "outputs": []
    },
    {
     "cell_type": "code",
     "collapsed": false,
     "input": [
      "dom = pq(r_download.text)"
     ],
     "language": "python",
     "metadata": {},
     "outputs": []
    },
    {
     "cell_type": "code",
     "collapsed": false,
     "input": [
      "dom(\"#content h1\")[0].text"
     ],
     "language": "python",
     "metadata": {},
     "outputs": []
    },
    {
     "cell_type": "code",
     "collapsed": false,
     "input": [
      "def make_uri_list(df_sublink):\n",
      "    r_download = s.get(\"https://www.furk.net/\" + df_sublink)\n",
      "    html_elem = pq(r_download.text)(\"textarea#plain_list\")[0]\n",
      "    if html_elem is None:\n",
      "        raise ValueError(\"Parsing Error\")\n",
      "    return html_elem.text.splitlines()"
     ],
     "language": "python",
     "metadata": {},
     "outputs": []
    },
    {
     "cell_type": "code",
     "collapsed": false,
     "input": [
      "# with open(\"zip_mirrors.link\", \"w\") as link_f:\n",
      "#     download_links = [elem.attrib['href'] for elem in dom_download(\"small a.dl_link\")]\n",
      "#     link_f.write(\"\\t\".join(download_links) + '\\n')"
     ],
     "language": "python",
     "metadata": {},
     "outputs": []
    },
    {
     "cell_type": "code",
     "collapsed": false,
     "input": [
      "TOP_DF = 12\n",
      "\n",
      "w = IntProgressWidget()\n",
      "w.max = TOP_DF\n",
      "w.value = 0\n",
      "ipydisplay(w)\n",
      "\n",
      "r_finished = s.get('https://www.furk.net/users/files/finished')\n",
      "finished_dom = pq(r_finished.text)\n",
      "want_dfs = OrderedDict([\n",
      "    (html_elem.text, html_elem.attrib['href'])\n",
      "    for html_elem in finished_dom('div.tor-box h2 a:first')[:TOP_DF]\n",
      "])\n",
      "full_down_links = OrderedDict()\n",
      "for df_title, df_sublink in want_dfs.items():\n",
      "    w.description = \"{:d} / {:d}\".format(w.value + 1, TOP_DF)\n",
      "    full_down_links[df_title] = make_uri_list(df_sublink)\n",
      "    w.value += 1"
     ],
     "language": "python",
     "metadata": {},
     "outputs": []
    },
    {
     "cell_type": "code",
     "collapsed": false,
     "input": [
      "out_root = Path(os.path.expanduser(\"~/Downloads\"), \"aria_down\")\n",
      "out_root"
     ],
     "language": "python",
     "metadata": {},
     "outputs": []
    },
    {
     "cell_type": "code",
     "collapsed": false,
     "input": [
      "if not out_root.exists():\n",
      "    out_root.mkdir()"
     ],
     "language": "python",
     "metadata": {},
     "outputs": []
    },
    {
     "cell_type": "code",
     "collapsed": false,
     "input": [
      "URI_PTH = out_root / 'down.uri'"
     ],
     "language": "python",
     "metadata": {},
     "outputs": []
    },
    {
     "cell_type": "code",
     "collapsed": false,
     "input": [
      "ARGUMENT_FMT = '''\\\n",
      "  dir={:s}\n",
      "'''\n",
      "with URI_PTH.open('w') as f:\n",
      "    for df_title, df_links in full_down_links.items():\n",
      "        if len(df_links) == 1:\n",
      "            print(df_links[0], file=f)\n",
      "        else:\n",
      "            arg = ARGUMENT_FMT.format(df_title)\n",
      "            for link in df_links:\n",
      "                print(link, file=f)\n",
      "                print(arg, file=f)"
     ],
     "language": "python",
     "metadata": {},
     "outputs": []
    },
    {
     "cell_type": "code",
     "collapsed": false,
     "input": [],
     "language": "python",
     "metadata": {},
     "outputs": []
    }
   ],
   "metadata": {}
  }
 ]
}