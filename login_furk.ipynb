{
 "metadata": {
  "name": ""
 },
 "nbformat": 3,
 "nbformat_minor": 0,
 "worksheets": [
  {
   "cells": [
    {
     "cell_type": "code",
     "collapsed": false,
     "input": [
      "import os"
     ],
     "language": "python",
     "metadata": {},
     "outputs": [],
     "prompt_number": 1
    },
    {
     "cell_type": "code",
     "collapsed": false,
     "input": [
      "'pwd' in os.environ"
     ],
     "language": "python",
     "metadata": {},
     "outputs": [
      {
       "metadata": {},
       "output_type": "pyout",
       "prompt_number": 2,
       "text": [
        "True"
       ]
      }
     ],
     "prompt_number": 2
    },
    {
     "cell_type": "code",
     "collapsed": false,
     "input": [
      "ACCOUNT =  os.environ['account']\n",
      "PWD = os.environ['pwd']"
     ],
     "language": "python",
     "metadata": {},
     "outputs": [],
     "prompt_number": 3
    },
    {
     "cell_type": "code",
     "collapsed": false,
     "input": [
      "import requests"
     ],
     "language": "python",
     "metadata": {},
     "outputs": [],
     "prompt_number": 4
    },
    {
     "cell_type": "code",
     "collapsed": false,
     "input": [
      "s = requests.Session()"
     ],
     "language": "python",
     "metadata": {},
     "outputs": [],
     "prompt_number": 5
    },
    {
     "cell_type": "code",
     "collapsed": false,
     "input": [
      "r = s.get(\"https://www.furk.net/\")"
     ],
     "language": "python",
     "metadata": {},
     "outputs": [],
     "prompt_number": 6
    },
    {
     "cell_type": "code",
     "collapsed": false,
     "input": [
      "from datetime import datetime as dt"
     ],
     "language": "python",
     "metadata": {},
     "outputs": [],
     "prompt_number": 7
    },
    {
     "cell_type": "code",
     "collapsed": false,
     "input": [
      "login_payload = {\n",
      "    'login': ACCOUNT,\n",
      "    'pwd': PWD,\n",
      "    'gigya_uid': '',\n",
      "    'url': ''\n",
      "}"
     ],
     "language": "python",
     "metadata": {},
     "outputs": [],
     "prompt_number": 8
    },
    {
     "cell_type": "code",
     "collapsed": false,
     "input": [
      "s.headers.update({'referer': 'https://www.furk.net/login'})\n",
      "r = s.post(\"https://www.furk.net/api/login/login\", params=login_payload)"
     ],
     "language": "python",
     "metadata": {},
     "outputs": [],
     "prompt_number": 9
    },
    {
     "cell_type": "code",
     "collapsed": false,
     "input": [
      "r_finished = s.get('https://www.furk.net/users/files/finished')"
     ],
     "language": "python",
     "metadata": {},
     "outputs": [],
     "prompt_number": 10
    },
    {
     "cell_type": "code",
     "collapsed": false,
     "input": [
      "r, r_finished"
     ],
     "language": "python",
     "metadata": {},
     "outputs": [
      {
       "metadata": {},
       "output_type": "pyout",
       "prompt_number": 11,
       "text": [
        "(<Response [200]>, <Response [200]>)"
       ]
      }
     ],
     "prompt_number": 11
    },
    {
     "cell_type": "code",
     "collapsed": false,
     "input": [
      "from pyquery import PyQuery as pq"
     ],
     "language": "python",
     "metadata": {},
     "outputs": [],
     "prompt_number": 12
    },
    {
     "cell_type": "code",
     "collapsed": false,
     "input": [
      "dom = pq(r_finished.text)"
     ],
     "language": "python",
     "metadata": {},
     "outputs": [],
     "prompt_number": 13
    },
    {
     "cell_type": "code",
     "collapsed": false,
     "input": [
      "for html_elem in dom('div.tor-box h2 a:first'):\n",
      "    print(html_elem.attrib['href'], html_elem.text)"
     ],
     "language": "python",
     "metadata": {},
     "outputs": [
      {
       "output_type": "stream",
       "stream": "stdout",
       "text": [
        "/df/88c8aa4c2ddcae57 [\u30a2\u30cb\u30e1 BD] \u30ce\u30ef\u30fc\u30eb \u516826\u8a71 (1280x720 x264 10bit AACx2(jpn+eng) chap)\n",
        "/df/6846ffee024d823f [\u30a2\u30cb\u30e1 BD] \u30ce\u30ef\u30fc\u30eb \u516826\u8a71 (1920x1080 x264 10bit AAC(2ch(jpn))\uff0fALAC(2ch(jpn)+6ch(eng)) chap)\n",
        "/df/4444428967babdee [Kamigami] The World Heritage - Bath shigai  nisennen tsuduku onsenkyou [TBS 720p x264 AAC Sub(Chs,Jap)].mkv\n",
        "/df/188e29e9ca4cfc46 [Kamigami] The World Heritage - silk road special \u2160 Venus kara daibutsu ga umareta [TBS 720p x264 AAC Sub(Chs,Cht,Jap)].mkv\n",
        "/df/c346a357b349c805 [Kamigami] The World Heritage - jinrui no kessaku special 10 sen [TBS 720p x264 AAC Sub(Chs,Jap)].mkv\n",
        "/df/551865e0870870d5 [Kamigami] The World Heritage - sora kara mita nihon \u2160 bunka isan no subete [TBS 720p x264 AAC Sub(Chs,Jap)]..mkv\n",
        "/df/23ad34da39b8382c [Kamigami] The World Heritage - bunmei kuruzu \u2161 tyoko nazo no kodai okoku he [TBS 720p x264 AAC Sub(Chs,Cht,Jap)].mkv\n",
        "/df/8c47c32236033c67 [Kamigami] The World Heritage - bunmei kuruzu \u2160 eigekai yoroppa no hajimari no umi he [TBS 720p x264 AAC Sub(Chs,Cht,Jap)].mkv\n",
        "/df/058f9b931e1eb667 [Kamigami] The World Heritage - sora kara mita nihon \u2161 bunka isan no subete [TBS 720p x264 AAC Sub(Chs,Jap)]..mkv\n",
        "/df/1d549b935e5d6c5f BLOOD-C (BD 1280x720 AVC AAC)\n",
        "/df/5568717503f5c189 [\u5f02\u57df-11\u756a\u5c0f\u961f][\u866b\u5e08 MUSHISHI][1-26][BDRIP][720P][X264-10bit_AAC]\n",
        "/df/f603979568944a3c [Zhushen] Nausicaa of the Valley of the Wind [BD x264 1080p FLAC(Man,Can,Jap,Eng,Fre,Ger,Kor) Sub(Chs,Cht,Jap,Eng,Fre,Ger,Kor)].mkv\n"
       ]
      }
     ],
     "prompt_number": 15
    },
    {
     "cell_type": "code",
     "collapsed": false,
     "input": [
      "r_download = s.get(\"https://www.furk.net/\" + \"/df/88c8aa4c2ddcae57\")"
     ],
     "language": "python",
     "metadata": {},
     "outputs": [],
     "prompt_number": 16
    },
    {
     "cell_type": "code",
     "collapsed": false,
     "input": [
      "dom_download = pq(r_download.text)(\"td#cell_premium_links\")"
     ],
     "language": "python",
     "metadata": {},
     "outputs": [],
     "prompt_number": 17
    },
    {
     "cell_type": "code",
     "collapsed": false,
     "input": [
      "for html_elem in dom_download(\"small a.dl_link\"):\n",
      "    print(html_elem.attrib['href'])"
     ],
     "language": "python",
     "metadata": {},
     "outputs": [
      {
       "output_type": "stream",
       "stream": "stdout",
       "text": [
        "http://pdlv05vrb0o8q6tq7ppsf2mpiqruh0h6kcbms70.gcdn.biz:30084/d/p/1WGdrR63rOshzA2NrlYeRWwTVd7QtQISt-iCJqMXbhw/%5B%E3%82%A2%E3%83%8B%E3%83%A1%20BD%5D%20%E3%83%8E%E3%83%AF%E3%83%BC%E3%83%AB%20%E5%85%A826%E8%A9%B1%20%281280x720%20x264%2010bit%20AACx2%28jpn%2Beng%29%20chap%29.zip\n",
        "https://pdlv05vrb0o8q6tq7ppsf2mpiqruh0h6kcbms70.gcdn.biz:30082/d/p/1WGdrR63rOshzA2NrlYeRWwTVd7QtQISt-iCJqMXbhw/%5B%E3%82%A2%E3%83%8B%E3%83%A1%20BD%5D%20%E3%83%8E%E3%83%AF%E3%83%BC%E3%83%AB%20%E5%85%A826%E8%A9%B1%20%281280x720%20x264%2010bit%20AACx2%28jpn%2Beng%29%20chap%29.zip\n",
        "https://pdlv05vrb0o8q6tq7ppsf2mpiqruh0h6kcbms70.gcdn.biz/d/p/1WGdrR63rOshzA2NrlYeRWwTVd7QtQISt-iCJqMXbhw/%5B%E3%82%A2%E3%83%8B%E3%83%A1%20BD%5D%20%E3%83%8E%E3%83%AF%E3%83%BC%E3%83%AB%20%E5%85%A826%E8%A9%B1%20%281280x720%20x264%2010bit%20AACx2%28jpn%2Beng%29%20chap%29.zip\n",
        "http://pdlv05vrb0o8q6tq7ppsf2mpiqruh0h6kcbms70.gcdn.biz/d/p/1WGdrR63rOshzA2NrlYeRWwTVd7QtQISt-iCJqMXbhw/%5B%E3%82%A2%E3%83%8B%E3%83%A1%20BD%5D%20%E3%83%8E%E3%83%AF%E3%83%BC%E3%83%AB%20%E5%85%A826%E8%A9%B1%20%281280x720%20x264%2010bit%20AACx2%28jpn%2Beng%29%20chap%29.zip\n",
        "httpS://95.211.215.47/d/p/1WGdrR63rOshzA2NrlYeRWwTVd7QtQISt-iCJqMXbhw/%5B%E3%82%A2%E3%83%8B%E3%83%A1%20BD%5D%20%E3%83%8E%E3%83%AF%E3%83%BC%E3%83%AB%20%E5%85%A826%E8%A9%B1%20%281280x720%20x264%2010bit%20AACx2%28jpn%2Beng%29%20chap%29.zip\n"
       ]
      }
     ],
     "prompt_number": 18
    },
    {
     "cell_type": "code",
     "collapsed": false,
     "input": [
      "with open(\"zip_mirrors.link\", \"w\") as link_f:\n",
      "    download_links = [elem.attrib['href'] for elem in dom_download(\"small a.dl_link\")]\n",
      "    link_f.write(\"\\t\".join(download_links) + '\\n')"
     ],
     "language": "python",
     "metadata": {},
     "outputs": [],
     "prompt_number": 25
    },
    {
     "cell_type": "code",
     "collapsed": false,
     "input": [],
     "language": "python",
     "metadata": {},
     "outputs": []
    }
   ],
   "metadata": {}
  }
 ]
}