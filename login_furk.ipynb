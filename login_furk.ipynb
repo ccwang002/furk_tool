{
 "metadata": {
  "name": "",
  "signature": "sha256:ce0e8e104ba27dc1a7f6399c49d784affd3149c24c17e70cc7f773f26c43553a"
 },
 "nbformat": 3,
 "nbformat_minor": 0,
 "worksheets": [
  {
   "cells": [
    {
     "cell_type": "code",
     "collapsed": false,
     "input": [
      "import os\n",
      "import os.path as op"
     ],
     "language": "python",
     "metadata": {},
     "outputs": []
    },
    {
     "cell_type": "code",
     "collapsed": false,
     "input": [
      "with open(op.expanduser(\"~/.furk_credentials\")) as f:\n",
      "    ACCOUNT = next(f).strip().split(' = ')[-1]\n",
      "    PWD = next(f).strip().split(' = ')[-1]"
     ],
     "language": "python",
     "metadata": {},
     "outputs": []
    },
    {
     "cell_type": "code",
     "collapsed": false,
     "input": [
      "import requests"
     ],
     "language": "python",
     "metadata": {},
     "outputs": []
    },
    {
     "cell_type": "code",
     "collapsed": false,
     "input": [
      "s = requests.Session()"
     ],
     "language": "python",
     "metadata": {},
     "outputs": []
    },
    {
     "cell_type": "code",
     "collapsed": false,
     "input": [
      "r = s.get(\"https://www.furk.net/\")"
     ],
     "language": "python",
     "metadata": {},
     "outputs": []
    },
    {
     "cell_type": "code",
     "collapsed": false,
     "input": [
      "from datetime import datetime as dt"
     ],
     "language": "python",
     "metadata": {},
     "outputs": []
    },
    {
     "cell_type": "code",
     "collapsed": false,
     "input": [
      "login_payload = {\n",
      "    'login': ACCOUNT,\n",
      "    'pwd': PWD,\n",
      "    'gigya_uid': '',\n",
      "    'url': ''\n",
      "}"
     ],
     "language": "python",
     "metadata": {},
     "outputs": []
    },
    {
     "cell_type": "code",
     "collapsed": false,
     "input": [
      "s.headers.update({'referer': 'https://www.furk.net/login'})\n",
      "r = s.post(\"https://www.furk.net/api/login/login\", params=login_payload)"
     ],
     "language": "python",
     "metadata": {},
     "outputs": []
    },
    {
     "cell_type": "code",
     "collapsed": false,
     "input": [
      "r_finished = s.get('https://www.furk.net/users/files/finished')"
     ],
     "language": "python",
     "metadata": {},
     "outputs": []
    },
    {
     "cell_type": "code",
     "collapsed": false,
     "input": [
      "r, r_finished"
     ],
     "language": "python",
     "metadata": {},
     "outputs": []
    },
    {
     "cell_type": "code",
     "collapsed": false,
     "input": [
      "from pyquery import PyQuery as pq"
     ],
     "language": "python",
     "metadata": {},
     "outputs": []
    },
    {
     "cell_type": "code",
     "collapsed": false,
     "input": [
      "dom = pq(r_finished.text)"
     ],
     "language": "python",
     "metadata": {},
     "outputs": []
    },
    {
     "cell_type": "code",
     "collapsed": false,
     "input": [
      "for html_elem in dom('div.tor-box h2 a:first'):\n",
      "    print(html_elem.attrib['href'], html_elem.text[:20])"
     ],
     "language": "python",
     "metadata": {},
     "outputs": []
    },
    {
     "cell_type": "code",
     "collapsed": false,
     "input": [
      "r_download = s.get(\"https://www.furk.net/\" + \"/df/7c9cdc0bdeddbbfd\")"
     ],
     "language": "python",
     "metadata": {},
     "outputs": []
    },
    {
     "cell_type": "code",
     "collapsed": false,
     "input": [
      "dom_download = pq(r_download.text)(\"td#cell_premium_links\")"
     ],
     "language": "python",
     "metadata": {},
     "outputs": []
    },
    {
     "cell_type": "code",
     "collapsed": false,
     "input": [
      "for html_elem in dom_download(\"small a.dl_link\"):\n",
      "    print(html_elem.attrib['href'])"
     ],
     "language": "python",
     "metadata": {},
     "outputs": []
    },
    {
     "cell_type": "code",
     "collapsed": false,
     "input": [
      "with open(\"zip_mirrors.link\", \"w\") as link_f:\n",
      "    download_links = [elem.attrib['href'] for elem in dom_download(\"small a.dl_link\")]\n",
      "    link_f.write(\"\\t\".join(download_links) + '\\n')"
     ],
     "language": "python",
     "metadata": {},
     "outputs": []
    },
    {
     "cell_type": "code",
     "collapsed": false,
     "input": [
      "want_dfs = [html_elem.attrib['href'] for html_elem in dom('div.tor-box h2 a:first')][:3] "
     ],
     "language": "python",
     "metadata": {},
     "outputs": []
    },
    {
     "cell_type": "code",
     "collapsed": false,
     "input": [
      "for df in want_dfs:\n",
      "    r_download = s.get(\"https://www.furk.net\" + df)\n",
      "    dom_download = pq(r_download.text)(\"td#cell_premium_links\")\n",
      "    print(next(iter(dom_download(\"small a.dl_link\"))).attrib['href'])"
     ],
     "language": "python",
     "metadata": {},
     "outputs": []
    },
    {
     "cell_type": "code",
     "collapsed": false,
     "input": [],
     "language": "python",
     "metadata": {},
     "outputs": []
    }
   ],
   "metadata": {}
  }
 ]
}