{
 "metadata": {
  "name": ""
 },
 "nbformat": 3,
 "nbformat_minor": 0,
 "worksheets": [
  {
   "cells": [
    {
     "cell_type": "code",
     "collapsed": false,
     "input": [
      "import os"
     ],
     "language": "python",
     "metadata": {},
     "outputs": [],
     "prompt_number": 1
    },
    {
     "cell_type": "code",
     "collapsed": false,
     "input": [
      "ACCOUNT =  os.environ['account']\n",
      "PWD = os.environ['pwd']"
     ],
     "language": "python",
     "metadata": {},
     "outputs": [],
     "prompt_number": 2
    },
    {
     "cell_type": "code",
     "collapsed": false,
     "input": [
      "FURK_HOME = \"https://www.furk.net/\""
     ],
     "language": "python",
     "metadata": {},
     "outputs": [],
     "prompt_number": 20
    },
    {
     "cell_type": "code",
     "collapsed": false,
     "input": [
      "import requests\n",
      "from pyquery import PyQuery as pq"
     ],
     "language": "python",
     "metadata": {},
     "outputs": [],
     "prompt_number": 3
    },
    {
     "cell_type": "code",
     "collapsed": false,
     "input": [
      "login_payload = {\n",
      "    'login': ACCOUNT,\n",
      "    'pwd': PWD,\n",
      "    'gigya_uid': '',\n",
      "    'url': ''\n",
      "}"
     ],
     "language": "python",
     "metadata": {},
     "outputs": [],
     "prompt_number": 4
    },
    {
     "cell_type": "code",
     "collapsed": false,
     "input": [
      "s = requests.Session()\n",
      "r = s.get(FURK_HOME)"
     ],
     "language": "python",
     "metadata": {},
     "outputs": [],
     "prompt_number": 8
    },
    {
     "cell_type": "code",
     "collapsed": false,
     "input": [
      "s.headers.update({'referer': 'https://www.furk.net/login'})\n",
      "login_r = s.post(\"https://www.furk.net/api/login/login\", params=login_payload)\n",
      "finish_r = s.get('https://www.furk.net/users/files/finished')"
     ],
     "language": "python",
     "metadata": {},
     "outputs": [],
     "prompt_number": 9
    },
    {
     "cell_type": "code",
     "collapsed": false,
     "input": [
      "login_r, finish_r"
     ],
     "language": "python",
     "metadata": {},
     "outputs": [
      {
       "metadata": {},
       "output_type": "pyout",
       "prompt_number": 10,
       "text": [
        "(<Response [200]>, <Response [200]>)"
       ]
      }
     ],
     "prompt_number": 10
    },
    {
     "cell_type": "code",
     "collapsed": false,
     "input": [
      "finish_dom = pq(finish_r.text)"
     ],
     "language": "python",
     "metadata": {},
     "outputs": [],
     "prompt_number": 12
    },
    {
     "cell_type": "code",
     "collapsed": false,
     "input": [
      "from collections import namedtuple"
     ],
     "language": "python",
     "metadata": {},
     "outputs": [],
     "prompt_number": 13
    },
    {
     "cell_type": "code",
     "collapsed": false,
     "input": [
      "FinishedTorrent = namedtuple('FinishedTorrent', ['link', 'name'])"
     ],
     "language": "python",
     "metadata": {},
     "outputs": [],
     "prompt_number": 14
    },
    {
     "cell_type": "code",
     "collapsed": false,
     "input": [
      "finished_torrents = [\n",
      "    FinishedTorrent(html_elem.attrib['href'], html_elem.text)\n",
      "    for html_elem in finish_dom('div.tor-box h2 a:first')\n",
      "]"
     ],
     "language": "python",
     "metadata": {},
     "outputs": [],
     "prompt_number": 16
    },
    {
     "cell_type": "code",
     "collapsed": false,
     "input": [
      "finished_torrents"
     ],
     "language": "python",
     "metadata": {},
     "outputs": [
      {
       "metadata": {},
       "output_type": "pyout",
       "prompt_number": 17,
       "text": [
        "[FinishedTorrent(link='/df/88c8aa4c2ddcae57', name='[\u30a2\u30cb\u30e1 BD] \u30ce\u30ef\u30fc\u30eb \u516826\u8a71 (1280x720 x264 10bit AACx2(jpn+eng) chap)'),\n",
        " FinishedTorrent(link='/df/6846ffee024d823f', name='[\u30a2\u30cb\u30e1 BD] \u30ce\u30ef\u30fc\u30eb \u516826\u8a71 (1920x1080 x264 10bit AAC(2ch(jpn))\uff0fALAC(2ch(jpn)+6ch(eng)) chap)'),\n",
        " FinishedTorrent(link='/df/4444428967babdee', name='[Kamigami] The World Heritage - Bath shigai  nisennen tsuduku onsenkyou [TBS 720p x264 AAC Sub(Chs,Jap)].mkv'),\n",
        " FinishedTorrent(link='/df/188e29e9ca4cfc46', name='[Kamigami] The World Heritage - silk road special \u2160 Venus kara daibutsu ga umareta [TBS 720p x264 AAC Sub(Chs,Cht,Jap)].mkv'),\n",
        " FinishedTorrent(link='/df/c346a357b349c805', name='[Kamigami] The World Heritage - jinrui no kessaku special 10 sen [TBS 720p x264 AAC Sub(Chs,Jap)].mkv'),\n",
        " FinishedTorrent(link='/df/551865e0870870d5', name='[Kamigami] The World Heritage - sora kara mita nihon \u2160 bunka isan no subete [TBS 720p x264 AAC Sub(Chs,Jap)]..mkv'),\n",
        " FinishedTorrent(link='/df/23ad34da39b8382c', name='[Kamigami] The World Heritage - bunmei kuruzu \u2161 tyoko nazo no kodai okoku he [TBS 720p x264 AAC Sub(Chs,Cht,Jap)].mkv'),\n",
        " FinishedTorrent(link='/df/8c47c32236033c67', name='[Kamigami] The World Heritage - bunmei kuruzu \u2160 eigekai yoroppa no hajimari no umi he [TBS 720p x264 AAC Sub(Chs,Cht,Jap)].mkv'),\n",
        " FinishedTorrent(link='/df/058f9b931e1eb667', name='[Kamigami] The World Heritage - sora kara mita nihon \u2161 bunka isan no subete [TBS 720p x264 AAC Sub(Chs,Jap)]..mkv'),\n",
        " FinishedTorrent(link='/df/1d549b935e5d6c5f', name='BLOOD-C (BD 1280x720 AVC AAC)'),\n",
        " FinishedTorrent(link='/df/5568717503f5c189', name='[\u5f02\u57df-11\u756a\u5c0f\u961f][\u866b\u5e08 MUSHISHI][1-26][BDRIP][720P][X264-10bit_AAC]'),\n",
        " FinishedTorrent(link='/df/f603979568944a3c', name='[Zhushen] Nausicaa of the Valley of the Wind [BD x264 1080p FLAC(Man,Can,Jap,Eng,Fre,Ger,Kor) Sub(Chs,Cht,Jap,Eng,Fre,Ger,Kor)].mkv')]"
       ]
      }
     ],
     "prompt_number": 17
    },
    {
     "cell_type": "code",
     "collapsed": false,
     "input": [
      "df_id = '88c8aa4c2ddcae57'"
     ],
     "language": "python",
     "metadata": {},
     "outputs": [],
     "prompt_number": 19
    },
    {
     "cell_type": "code",
     "collapsed": false,
     "input": [
      "df_r = s.get(\"{}df/{}\".format(FURK_HOME, df_id))"
     ],
     "language": "python",
     "metadata": {},
     "outputs": [],
     "prompt_number": 21
    },
    {
     "cell_type": "code",
     "collapsed": false,
     "input": [
      "dom_df = pq(df_r.text)\n",
      "dom_download = dom_df(\"td#cell_premium_links\")"
     ],
     "language": "python",
     "metadata": {},
     "outputs": [],
     "prompt_number": 29
    },
    {
     "cell_type": "code",
     "collapsed": false,
     "input": [
      "download_links = [elem.attrib['href'] for elem in dom_download(\"small a.dl_link\")]"
     ],
     "language": "python",
     "metadata": {},
     "outputs": [],
     "prompt_number": 24
    },
    {
     "cell_type": "code",
     "collapsed": false,
     "input": [
      "total_size = dom_df(\n",
      "    \"#block_info div.foldable-content ul>li:first>b\"\n",
      ").text().replace('\\xa0', ' ')"
     ],
     "language": "python",
     "metadata": {},
     "outputs": [],
     "prompt_number": 47
    },
    {
     "cell_type": "code",
     "collapsed": false,
     "input": [
      "total_size"
     ],
     "language": "python",
     "metadata": {},
     "outputs": [
      {
       "metadata": {},
       "output_type": "pyout",
       "prompt_number": 48,
       "text": [
        "'13.8 GB'"
       ]
      }
     ],
     "prompt_number": 48
    },
    {
     "cell_type": "code",
     "collapsed": false,
     "input": [],
     "language": "python",
     "metadata": {},
     "outputs": []
    }
   ],
   "metadata": {}
  }
 ]
}