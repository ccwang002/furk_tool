{
 "cells": [
  {
   "cell_type": "code",
   "execution_count": null,
   "metadata": {
    "collapsed": true
   },
   "outputs": [],
   "source": [
    "from collections import OrderedDict\n",
    "from datetime import datetime as dt\n",
    "import os\n",
    "import os.path as op\n",
    "from pathlib import Path\n",
    "import requests\n",
    "from urllib.parse import unquote_plus\n"
   ]
  },
  {
   "cell_type": "code",
   "execution_count": null,
   "metadata": {
    "collapsed": true
   },
   "outputs": [],
   "source": [
    "with open(\"/Users/liang/Downloads/.furk_credentials\") as f:\n",
    "    ACCOUNT = next(f).strip().split(' = ')[-1]\n",
    "    PWD = next(f).strip().split(' = ')[-1]"
   ]
  },
  {
   "cell_type": "code",
   "execution_count": null,
   "metadata": {
    "collapsed": true
   },
   "outputs": [],
   "source": [
    "s = requests.Session()"
   ]
  },
  {
   "cell_type": "code",
   "execution_count": null,
   "metadata": {
    "collapsed": true
   },
   "outputs": [],
   "source": [
    "r = s.get(\"https://www.furk.net/\")"
   ]
  },
  {
   "cell_type": "code",
   "execution_count": null,
   "metadata": {
    "collapsed": true
   },
   "outputs": [],
   "source": [
    "login_payload = {\n",
    "    'login': ACCOUNT,\n",
    "    'pwd': PWD,\n",
    "    'gigya_uid': '',\n",
    "    'url': ''\n",
    "}"
   ]
  },
  {
   "cell_type": "code",
   "execution_count": null,
   "metadata": {
    "collapsed": true
   },
   "outputs": [],
   "source": [
    "s.headers.update({'referer': 'https://www.furk.net/login'})\n",
    "r = s.post(\"https://www.furk.net/api/login/login\", params=login_payload)"
   ]
  },
  {
   "cell_type": "code",
   "execution_count": null,
   "metadata": {
    "collapsed": true
   },
   "outputs": [],
   "source": [
    "r_finished = s.get('https://www.furk.net/users/files/finished')"
   ]
  },
  {
   "cell_type": "code",
   "execution_count": null,
   "metadata": {},
   "outputs": [],
   "source": [
    "r, r_finished"
   ]
  },
  {
   "cell_type": "code",
   "execution_count": null,
   "metadata": {},
   "outputs": [],
   "source": [
    "r = s.post(\"https://www.furk.net/api/file/get\")\n",
    "j = r.json()\n",
    "j"
   ]
  },
  {
   "cell_type": "code",
   "execution_count": null,
   "metadata": {
    "collapsed": true
   },
   "outputs": [],
   "source": [
    "from pyquery import PyQuery as pq"
   ]
  },
  {
   "cell_type": "code",
   "execution_count": null,
   "metadata": {
    "collapsed": true
   },
   "outputs": [],
   "source": [
    "dom = pq(r_finished.text)"
   ]
  },
  {
   "cell_type": "code",
   "execution_count": null,
   "metadata": {},
   "outputs": [],
   "source": [
    "for html_elem in dom('div.list-group-item > h4.list-group-item-heading > a:first'):\n",
    "    print(html_elem.attrib['href'], html_elem.text[:5])"
   ]
  },
  {
   "cell_type": "code",
   "execution_count": null,
   "metadata": {
    "collapsed": true
   },
   "outputs": [],
   "source": [
    "r_download = s.get(\"https://www.furk.net/\" + \"/df/xxx\")"
   ]
  },
  {
   "cell_type": "code",
   "execution_count": null,
   "metadata": {
    "collapsed": true
   },
   "outputs": [],
   "source": [
    "root_li = pq(r_download.text)('#t_files_tree > ul > li')"
   ]
  },
  {
   "cell_type": "code",
   "execution_count": null,
   "metadata": {},
   "outputs": [],
   "source": [
    "down_links = pq(root_li)('a.url-dl')\n",
    "for elem in down_links:\n",
    "    elem_dirs = pq(root_li)(elem).parents('.list-group-item')\n",
    "    if elem_dirs:\n",
    "        dir_names = [pq(elem_d).contents()[0].strip() for elem_d in elem_dirs]\n",
    "        dir_names = [d for d in dir_names if d]\n",
    "        if dir_names:\n",
    "            print(' > '.join(dir_names), '>')"
   ]
  },
  {
   "cell_type": "code",
   "execution_count": null,
   "metadata": {},
   "outputs": [],
   "source": [
    "pq(down_links[2]).attr('href')"
   ]
  },
  {
   "cell_type": "code",
   "execution_count": null,
   "metadata": {},
   "outputs": [],
   "source": [
    "url = down_links[2].attrib['href']\n",
    "unquote_plus(url.rsplit('/', 1)[1])"
   ]
  },
  {
   "cell_type": "code",
   "execution_count": null,
   "metadata": {},
   "outputs": [],
   "source": [
    "[e.attrib['href'] for e in pq(r_download.text)(\"#t_files_tree a.url-dl\")]"
   ]
  },
  {
   "cell_type": "code",
   "execution_count": null,
   "metadata": {
    "collapsed": true
   },
   "outputs": [],
   "source": [
    "dom = pq(r_download.text)"
   ]
  },
  {
   "cell_type": "code",
   "execution_count": null,
   "metadata": {
    "collapsed": true
   },
   "outputs": [],
   "source": [
    "list(filter(lambda d: 'title' in d.attrib and d.attrib['title'].startswith('http'), \n",
    "            dom(\".col-md-4 br + div + small a\")\n",
    "))"
   ]
  },
  {
   "cell_type": "code",
   "execution_count": null,
   "metadata": {
    "collapsed": true
   },
   "outputs": [],
   "source": [
    "def make_uri_list(df_sublink):\n",
    "    r_download = s.get(\"https://www.furk.net/\" + df_sublink)\n",
    "    html_elem = pq(r_download.text)(\"#plain_list\")[0]\n",
    "    if html_elem is None:\n",
    "        raise ValueError(\"Parsing Error\")\n",
    "    return html_elem.text.splitlines()"
   ]
  },
  {
   "cell_type": "code",
   "execution_count": null,
   "metadata": {
    "collapsed": true
   },
   "outputs": [],
   "source": [
    "# with open(\"zip_mirrors.link\", \"w\") as link_f:\n",
    "#     download_links = [elem.attrib['href'] for elem in dom_download(\"small a.dl_link\")]\n",
    "#     link_f.write(\"\\t\".join(download_links) + '\\n')"
   ]
  },
  {
   "cell_type": "code",
   "execution_count": null,
   "metadata": {
    "collapsed": true
   },
   "outputs": [],
   "source": [
    "TOP_DF = 12\n",
    "\n",
    "w = IntProgressWidget()\n",
    "w.max = TOP_DF\n",
    "w.value = 0\n",
    "ipydisplay(w)\n",
    "\n",
    "r_finished = s.get('https://www.furk.net/users/files/finished')\n",
    "finished_dom = pq(r_finished.text)\n",
    "want_dfs = OrderedDict([\n",
    "    (html_elem.text, html_elem.attrib['href'])\n",
    "    for html_elem in finished_dom('div.tor-box h2 a:first')[:TOP_DF]\n",
    "])\n",
    "full_down_links = OrderedDict()\n",
    "for df_title, df_sublink in want_dfs.items():\n",
    "    w.description = \"{:d} / {:d}\".format(w.value + 1, TOP_DF)\n",
    "    full_down_links[df_title] = make_uri_list(df_sublink)\n",
    "    w.value += 1"
   ]
  },
  {
   "cell_type": "code",
   "execution_count": null,
   "metadata": {
    "collapsed": true
   },
   "outputs": [],
   "source": [
    "out_root = Path(os.path.expanduser(\"~/Downloads\"), \"aria_down\")\n",
    "out_root"
   ]
  },
  {
   "cell_type": "code",
   "execution_count": null,
   "metadata": {
    "collapsed": true
   },
   "outputs": [],
   "source": [
    "if not out_root.exists():\n",
    "    out_root.mkdir()"
   ]
  },
  {
   "cell_type": "code",
   "execution_count": null,
   "metadata": {
    "collapsed": true
   },
   "outputs": [],
   "source": [
    "URI_PTH = out_root / 'down.uri'"
   ]
  },
  {
   "cell_type": "code",
   "execution_count": null,
   "metadata": {
    "collapsed": true
   },
   "outputs": [],
   "source": [
    "ARGUMENT_FMT = '''\\\n",
    "  dir={:s}\n",
    "'''\n",
    "with URI_PTH.open('w') as f:\n",
    "    for df_title, df_links in full_down_links.items():\n",
    "        if len(df_links) == 1:\n",
    "            print(df_links[0], file=f)\n",
    "        else:\n",
    "            arg = ARGUMENT_FMT.format(df_title)\n",
    "            for link in df_links:\n",
    "                print(link, file=f)\n",
    "                print(arg, file=f)"
   ]
  },
  {
   "cell_type": "code",
   "execution_count": null,
   "metadata": {
    "collapsed": true
   },
   "outputs": [],
   "source": [
    "furk_sublink = lambda sl='': 'https://www.furk.net/%s' % sl"
   ]
  }
 ],
 "metadata": {
  "kernelspec": {
   "display_name": "Python 3",
   "language": "python",
   "name": "python3"
  },
  "language_info": {
   "codemirror_mode": {
    "name": "ipython",
    "version": 3
   },
   "file_extension": ".py",
   "mimetype": "text/x-python",
   "name": "python",
   "nbconvert_exporter": "python",
   "pygments_lexer": "ipython3",
   "version": "3.6.1"
  }
 },
 "nbformat": 4,
 "nbformat_minor": 1
}
